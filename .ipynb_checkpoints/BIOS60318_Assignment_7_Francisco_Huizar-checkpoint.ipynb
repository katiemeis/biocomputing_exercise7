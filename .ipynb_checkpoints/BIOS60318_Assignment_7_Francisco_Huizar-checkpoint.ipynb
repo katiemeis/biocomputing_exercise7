{
 "cells": [
  {
   "cell_type": "markdown",
   "metadata": {},
   "source": [
    "### BIOS 60318 Francisco Huizar Assignment 7"
   ]
  },
  {
   "cell_type": "markdown",
   "metadata": {},
   "source": [
    "### $\\color{blue}{Assignment}$"
   ]
  },
  {
   "cell_type": "markdown",
   "metadata": {},
   "source": [
    "##### 1. Write a function that returns the odd (1, 3, 5, etc.) rows of any pandas dataframe passed as an argument."
   ]
  },
  {
   "cell_type": "code",
   "execution_count": 1,
   "metadata": {},
   "outputs": [],
   "source": [
    "# Import necessary packages and data\n",
    "import csv\n",
    "import numpy as np\n",
    "import pandas as pd\n",
    "import os.path\n",
    "\n",
    "data = pd.read_csv('iris.csv', header = 0, sep=\",\")"
   ]
  },
  {
   "cell_type": "code",
   "execution_count": 2,
   "metadata": {},
   "outputs": [],
   "source": [
    "def getOddRows(dataFrame):\n",
    "    # Check if we are working with a pandas data frame\n",
    "    if (isinstance(dataFrame, pd.pandas.core.frame.DataFrame)):\n",
    "        # Get the number of rows and columns\n",
    "        nRows = len(dataFrame.index)\n",
    "        nCols = len(data.columns)\n",
    "        \n",
    "        # Create a null data frame we will return later\n",
    "        newDataFrame = pd.DataFrame()\n",
    "        \n",
    "        # Get the odd rows appended to the newDataFrame\n",
    "        for i in range(0, nRows):\n",
    "            if (i % 2) == 0:\n",
    "                # Do nothing because row is even\n",
    "                pass\n",
    "            else: \n",
    "                toAppend = pd.DataFrame(dataFrame.iloc[i:i+1], columns=list(dataFrame.columns))\n",
    "                newDataFrame = newDataFrame.append(toAppend)\n",
    "                print(dataFrame.iloc[i:i+1,0:])\n",
    "    else:\n",
    "        print('You passed in an argument that is not a pandas data frame')\n",
    "    return newDataFrame"
   ]
  },
  {
   "cell_type": "code",
   "execution_count": 3,
   "metadata": {},
   "outputs": [
    {
     "name": "stdout",
     "output_type": "stream",
     "text": [
      "   Sepal.Length  Sepal.Width  Petal.Length  Petal.Width Species\n",
      "1           4.9          3.0           1.4          0.2  setosa\n",
      "   Sepal.Length  Sepal.Width  Petal.Length  Petal.Width Species\n",
      "3           4.6          3.1           1.5          0.2  setosa\n",
      "   Sepal.Length  Sepal.Width  Petal.Length  Petal.Width Species\n",
      "5           5.4          3.9           1.7          0.4  setosa\n",
      "   Sepal.Length  Sepal.Width  Petal.Length  Petal.Width Species\n",
      "7           5.0          3.4           1.5          0.2  setosa\n",
      "   Sepal.Length  Sepal.Width  Petal.Length  Petal.Width Species\n",
      "9           4.9          3.1           1.5          0.1  setosa\n",
      "    Sepal.Length  Sepal.Width  Petal.Length  Petal.Width Species\n",
      "11           4.8          3.4           1.6          0.2  setosa\n",
      "    Sepal.Length  Sepal.Width  Petal.Length  Petal.Width Species\n",
      "13           4.3          3.0           1.1          0.1  setosa\n",
      "    Sepal.Length  Sepal.Width  Petal.Length  Petal.Width Species\n",
      "15           5.7          4.4           1.5          0.4  setosa\n",
      "    Sepal.Length  Sepal.Width  Petal.Length  Petal.Width Species\n",
      "17           5.1          3.5           1.4          0.3  setosa\n",
      "    Sepal.Length  Sepal.Width  Petal.Length  Petal.Width Species\n",
      "19           5.1          3.8           1.5          0.3  setosa\n",
      "    Sepal.Length  Sepal.Width  Petal.Length  Petal.Width Species\n",
      "21           5.1          3.7           1.5          0.4  setosa\n",
      "    Sepal.Length  Sepal.Width  Petal.Length  Petal.Width Species\n",
      "23           5.1          3.3           1.7          0.5  setosa\n",
      "    Sepal.Length  Sepal.Width  Petal.Length  Petal.Width Species\n",
      "25           5.0          3.0           1.6          0.2  setosa\n",
      "    Sepal.Length  Sepal.Width  Petal.Length  Petal.Width Species\n",
      "27           5.2          3.5           1.5          0.2  setosa\n",
      "    Sepal.Length  Sepal.Width  Petal.Length  Petal.Width Species\n",
      "29           4.7          3.2           1.6          0.2  setosa\n",
      "    Sepal.Length  Sepal.Width  Petal.Length  Petal.Width Species\n",
      "31           5.4          3.4           1.5          0.4  setosa\n",
      "    Sepal.Length  Sepal.Width  Petal.Length  Petal.Width Species\n",
      "33           5.5          4.2           1.4          0.2  setosa\n",
      "    Sepal.Length  Sepal.Width  Petal.Length  Petal.Width Species\n",
      "35           5.0          3.2           1.2          0.2  setosa\n",
      "    Sepal.Length  Sepal.Width  Petal.Length  Petal.Width Species\n",
      "37           4.9          3.6           1.4          0.1  setosa\n",
      "    Sepal.Length  Sepal.Width  Petal.Length  Petal.Width Species\n",
      "39           5.1          3.4           1.5          0.2  setosa\n",
      "    Sepal.Length  Sepal.Width  Petal.Length  Petal.Width Species\n",
      "41           4.5          2.3           1.3          0.3  setosa\n",
      "    Sepal.Length  Sepal.Width  Petal.Length  Petal.Width Species\n",
      "43           5.0          3.5           1.6          0.6  setosa\n",
      "    Sepal.Length  Sepal.Width  Petal.Length  Petal.Width Species\n",
      "45           4.8          3.0           1.4          0.3  setosa\n",
      "    Sepal.Length  Sepal.Width  Petal.Length  Petal.Width Species\n",
      "47           4.6          3.2           1.4          0.2  setosa\n",
      "    Sepal.Length  Sepal.Width  Petal.Length  Petal.Width Species\n",
      "49           5.0          3.3           1.4          0.2  setosa\n",
      "    Sepal.Length  Sepal.Width  Petal.Length  Petal.Width     Species\n",
      "51           6.4          3.2           4.5          1.5  versicolor\n",
      "    Sepal.Length  Sepal.Width  Petal.Length  Petal.Width     Species\n",
      "53           5.5          2.3           4.0          1.3  versicolor\n",
      "    Sepal.Length  Sepal.Width  Petal.Length  Petal.Width     Species\n",
      "55           5.7          2.8           4.5          1.3  versicolor\n",
      "    Sepal.Length  Sepal.Width  Petal.Length  Petal.Width     Species\n",
      "57           4.9          2.4           3.3          1.0  versicolor\n",
      "    Sepal.Length  Sepal.Width  Petal.Length  Petal.Width     Species\n",
      "59           5.2          2.7           3.9          1.4  versicolor\n",
      "    Sepal.Length  Sepal.Width  Petal.Length  Petal.Width     Species\n",
      "61           5.9          3.0           4.2          1.5  versicolor\n",
      "    Sepal.Length  Sepal.Width  Petal.Length  Petal.Width     Species\n",
      "63           6.1          2.9           4.7          1.4  versicolor\n",
      "    Sepal.Length  Sepal.Width  Petal.Length  Petal.Width     Species\n",
      "65           6.7          3.1           4.4          1.4  versicolor\n",
      "    Sepal.Length  Sepal.Width  Petal.Length  Petal.Width     Species\n",
      "67           5.8          2.7           4.1          1.0  versicolor\n",
      "    Sepal.Length  Sepal.Width  Petal.Length  Petal.Width     Species\n",
      "69           5.6          2.5           3.9          1.1  versicolor\n",
      "    Sepal.Length  Sepal.Width  Petal.Length  Petal.Width     Species\n",
      "71           6.1          2.8           4.0          1.3  versicolor\n",
      "    Sepal.Length  Sepal.Width  Petal.Length  Petal.Width     Species\n",
      "73           6.1          2.8           4.7          1.2  versicolor\n",
      "    Sepal.Length  Sepal.Width  Petal.Length  Petal.Width     Species\n",
      "75           6.6          3.0           4.4          1.4  versicolor\n",
      "    Sepal.Length  Sepal.Width  Petal.Length  Petal.Width     Species\n",
      "77           6.7          3.0           5.0          1.7  versicolor\n",
      "    Sepal.Length  Sepal.Width  Petal.Length  Petal.Width     Species\n",
      "79           5.7          2.6           3.5          1.0  versicolor\n",
      "    Sepal.Length  Sepal.Width  Petal.Length  Petal.Width     Species\n",
      "81           5.5          2.4           3.7          1.0  versicolor\n",
      "    Sepal.Length  Sepal.Width  Petal.Length  Petal.Width     Species\n",
      "83           6.0          2.7           5.1          1.6  versicolor\n",
      "    Sepal.Length  Sepal.Width  Petal.Length  Petal.Width     Species\n",
      "85           6.0          3.4           4.5          1.6  versicolor\n",
      "    Sepal.Length  Sepal.Width  Petal.Length  Petal.Width     Species\n",
      "87           6.3          2.3           4.4          1.3  versicolor\n",
      "    Sepal.Length  Sepal.Width  Petal.Length  Petal.Width     Species\n",
      "89           5.5          2.5           4.0          1.3  versicolor\n",
      "    Sepal.Length  Sepal.Width  Petal.Length  Petal.Width     Species\n",
      "91           6.1          3.0           4.6          1.4  versicolor\n",
      "    Sepal.Length  Sepal.Width  Petal.Length  Petal.Width     Species\n",
      "93           5.0          2.3           3.3          1.0  versicolor\n",
      "    Sepal.Length  Sepal.Width  Petal.Length  Petal.Width     Species\n",
      "95           5.7          3.0           4.2          1.2  versicolor\n",
      "    Sepal.Length  Sepal.Width  Petal.Length  Petal.Width     Species\n",
      "97           6.2          2.9           4.3          1.3  versicolor\n",
      "    Sepal.Length  Sepal.Width  Petal.Length  Petal.Width     Species\n",
      "99           5.7          2.8           4.1          1.3  versicolor\n",
      "     Sepal.Length  Sepal.Width  Petal.Length  Petal.Width    Species\n",
      "101           5.8          2.7           5.1          1.9  virginica\n",
      "     Sepal.Length  Sepal.Width  Petal.Length  Petal.Width    Species\n",
      "103           6.3          2.9           5.6          1.8  virginica\n",
      "     Sepal.Length  Sepal.Width  Petal.Length  Petal.Width    Species\n",
      "105           7.6          3.0           6.6          2.1  virginica\n",
      "     Sepal.Length  Sepal.Width  Petal.Length  Petal.Width    Species\n",
      "107           7.3          2.9           6.3          1.8  virginica\n",
      "     Sepal.Length  Sepal.Width  Petal.Length  Petal.Width    Species\n",
      "109           7.2          3.6           6.1          2.5  virginica\n",
      "     Sepal.Length  Sepal.Width  Petal.Length  Petal.Width    Species\n",
      "111           6.4          2.7           5.3          1.9  virginica\n",
      "     Sepal.Length  Sepal.Width  Petal.Length  Petal.Width    Species\n",
      "113           5.7          2.5           5.0          2.0  virginica\n",
      "     Sepal.Length  Sepal.Width  Petal.Length  Petal.Width    Species\n",
      "115           6.4          3.2           5.3          2.3  virginica\n",
      "     Sepal.Length  Sepal.Width  Petal.Length  Petal.Width    Species\n",
      "117           7.7          3.8           6.7          2.2  virginica\n",
      "     Sepal.Length  Sepal.Width  Petal.Length  Petal.Width    Species\n",
      "119           6.0          2.2           5.0          1.5  virginica\n",
      "     Sepal.Length  Sepal.Width  Petal.Length  Petal.Width    Species\n",
      "121           5.6          2.8           4.9          2.0  virginica\n",
      "     Sepal.Length  Sepal.Width  Petal.Length  Petal.Width    Species\n",
      "123           6.3          2.7           4.9          1.8  virginica\n",
      "     Sepal.Length  Sepal.Width  Petal.Length  Petal.Width    Species\n",
      "125           7.2          3.2           6.0          1.8  virginica\n",
      "     Sepal.Length  Sepal.Width  Petal.Length  Petal.Width    Species\n",
      "127           6.1          3.0           4.9          1.8  virginica\n",
      "     Sepal.Length  Sepal.Width  Petal.Length  Petal.Width    Species\n",
      "129           7.2          3.0           5.8          1.6  virginica\n",
      "     Sepal.Length  Sepal.Width  Petal.Length  Petal.Width    Species\n",
      "131           7.9          3.8           6.4          2.0  virginica\n",
      "     Sepal.Length  Sepal.Width  Petal.Length  Petal.Width    Species\n",
      "133           6.3          2.8           5.1          1.5  virginica\n",
      "     Sepal.Length  Sepal.Width  Petal.Length  Petal.Width    Species\n",
      "135           7.7          3.0           6.1          2.3  virginica\n",
      "     Sepal.Length  Sepal.Width  Petal.Length  Petal.Width    Species\n",
      "137           6.4          3.1           5.5          1.8  virginica\n",
      "     Sepal.Length  Sepal.Width  Petal.Length  Petal.Width    Species\n",
      "139           6.9          3.1           5.4          2.1  virginica\n",
      "     Sepal.Length  Sepal.Width  Petal.Length  Petal.Width    Species\n",
      "141           6.9          3.1           5.1          2.3  virginica\n",
      "     Sepal.Length  Sepal.Width  Petal.Length  Petal.Width    Species\n",
      "143           6.8          3.2           5.9          2.3  virginica\n",
      "     Sepal.Length  Sepal.Width  Petal.Length  Petal.Width    Species\n",
      "145           6.7          3.0           5.2          2.3  virginica\n",
      "     Sepal.Length  Sepal.Width  Petal.Length  Petal.Width    Species\n",
      "147           6.5          3.0           5.2          2.0  virginica\n",
      "     Sepal.Length  Sepal.Width  Petal.Length  Petal.Width    Species\n",
      "149           5.9          3.0           5.1          1.8  virginica\n"
     ]
    }
   ],
   "source": [
    "oddRowIris = getOddRows(data)"
   ]
  },
  {
   "cell_type": "code",
   "execution_count": 4,
   "metadata": {},
   "outputs": [
    {
     "name": "stdout",
     "output_type": "stream",
     "text": [
      "     Sepal.Length  Sepal.Width  Petal.Length  Petal.Width     Species\n",
      "1             4.9          3.0           1.4          0.2      setosa\n",
      "3             4.6          3.1           1.5          0.2      setosa\n",
      "5             5.4          3.9           1.7          0.4      setosa\n",
      "7             5.0          3.4           1.5          0.2      setosa\n",
      "9             4.9          3.1           1.5          0.1      setosa\n",
      "11            4.8          3.4           1.6          0.2      setosa\n",
      "13            4.3          3.0           1.1          0.1      setosa\n",
      "15            5.7          4.4           1.5          0.4      setosa\n",
      "17            5.1          3.5           1.4          0.3      setosa\n",
      "19            5.1          3.8           1.5          0.3      setosa\n",
      "21            5.1          3.7           1.5          0.4      setosa\n",
      "23            5.1          3.3           1.7          0.5      setosa\n",
      "25            5.0          3.0           1.6          0.2      setosa\n",
      "27            5.2          3.5           1.5          0.2      setosa\n",
      "29            4.7          3.2           1.6          0.2      setosa\n",
      "31            5.4          3.4           1.5          0.4      setosa\n",
      "33            5.5          4.2           1.4          0.2      setosa\n",
      "35            5.0          3.2           1.2          0.2      setosa\n",
      "37            4.9          3.6           1.4          0.1      setosa\n",
      "39            5.1          3.4           1.5          0.2      setosa\n",
      "41            4.5          2.3           1.3          0.3      setosa\n",
      "43            5.0          3.5           1.6          0.6      setosa\n",
      "45            4.8          3.0           1.4          0.3      setosa\n",
      "47            4.6          3.2           1.4          0.2      setosa\n",
      "49            5.0          3.3           1.4          0.2      setosa\n",
      "51            6.4          3.2           4.5          1.5  versicolor\n",
      "53            5.5          2.3           4.0          1.3  versicolor\n",
      "55            5.7          2.8           4.5          1.3  versicolor\n",
      "57            4.9          2.4           3.3          1.0  versicolor\n",
      "59            5.2          2.7           3.9          1.4  versicolor\n",
      "..            ...          ...           ...          ...         ...\n",
      "91            6.1          3.0           4.6          1.4  versicolor\n",
      "93            5.0          2.3           3.3          1.0  versicolor\n",
      "95            5.7          3.0           4.2          1.2  versicolor\n",
      "97            6.2          2.9           4.3          1.3  versicolor\n",
      "99            5.7          2.8           4.1          1.3  versicolor\n",
      "101           5.8          2.7           5.1          1.9   virginica\n",
      "103           6.3          2.9           5.6          1.8   virginica\n",
      "105           7.6          3.0           6.6          2.1   virginica\n",
      "107           7.3          2.9           6.3          1.8   virginica\n",
      "109           7.2          3.6           6.1          2.5   virginica\n",
      "111           6.4          2.7           5.3          1.9   virginica\n",
      "113           5.7          2.5           5.0          2.0   virginica\n",
      "115           6.4          3.2           5.3          2.3   virginica\n",
      "117           7.7          3.8           6.7          2.2   virginica\n",
      "119           6.0          2.2           5.0          1.5   virginica\n",
      "121           5.6          2.8           4.9          2.0   virginica\n",
      "123           6.3          2.7           4.9          1.8   virginica\n",
      "125           7.2          3.2           6.0          1.8   virginica\n",
      "127           6.1          3.0           4.9          1.8   virginica\n",
      "129           7.2          3.0           5.8          1.6   virginica\n",
      "131           7.9          3.8           6.4          2.0   virginica\n",
      "133           6.3          2.8           5.1          1.5   virginica\n",
      "135           7.7          3.0           6.1          2.3   virginica\n",
      "137           6.4          3.1           5.5          1.8   virginica\n",
      "139           6.9          3.1           5.4          2.1   virginica\n",
      "141           6.9          3.1           5.1          2.3   virginica\n",
      "143           6.8          3.2           5.9          2.3   virginica\n",
      "145           6.7          3.0           5.2          2.3   virginica\n",
      "147           6.5          3.0           5.2          2.0   virginica\n",
      "149           5.9          3.0           5.1          1.8   virginica\n",
      "\n",
      "[75 rows x 5 columns]\n"
     ]
    }
   ],
   "source": [
    "print(oddRowIris)"
   ]
  },
  {
   "cell_type": "markdown",
   "metadata": {},
   "source": [
    "#### 2. Repeat a subset of last week’s exercise, but write functions to accomplish these tasks."
   ]
  },
  {
   "cell_type": "markdown",
   "metadata": {},
   "source": [
    "#### Return the number of observations for a given species included in the data set"
   ]
  },
  {
   "cell_type": "code",
   "execution_count": 5,
   "metadata": {},
   "outputs": [],
   "source": [
    "def numObs(dataFrame, speciesName):\n",
    "    # Check if we are working with a pandas data frame\n",
    "    if (isinstance(dataFrame, pd.pandas.core.frame.DataFrame)):\n",
    "        temp = len(data[data['Species'].str.contains(speciesName)])\n",
    "        print('Number of', speciesName, 'observations: ', temp)\n",
    "    else:\n",
    "        print('You did not pass in a pandas data frame')"
   ]
  },
  {
   "cell_type": "code",
   "execution_count": 6,
   "metadata": {},
   "outputs": [
    {
     "name": "stdout",
     "output_type": "stream",
     "text": [
      "Number of setosa observations:  50\n"
     ]
    }
   ],
   "source": [
    "numObs(data, 'setosa')"
   ]
  },
  {
   "cell_type": "code",
   "execution_count": 7,
   "metadata": {},
   "outputs": [
    {
     "name": "stdout",
     "output_type": "stream",
     "text": [
      "Number of versicolor observations:  50\n"
     ]
    }
   ],
   "source": [
    "numObs(data, 'versicolor')"
   ]
  },
  {
   "cell_type": "code",
   "execution_count": 8,
   "metadata": {},
   "outputs": [
    {
     "name": "stdout",
     "output_type": "stream",
     "text": [
      "Number of virginica observations:  50\n"
     ]
    }
   ],
   "source": [
    "numObs(data, 'virginica')"
   ]
  },
  {
   "cell_type": "markdown",
   "metadata": {},
   "source": [
    "#### Return a dataframe for flowers with Sepal.Width greater than a value specified by the function user"
   ]
  },
  {
   "cell_type": "code",
   "execution_count": 9,
   "metadata": {},
   "outputs": [],
   "source": [
    "def sepalWidthLargerThan(dataFrame, maxWidth = 3.5):\n",
    "    # Check if we are working with a pandas data frame\n",
    "    if (isinstance(dataFrame, pd.pandas.core.frame.DataFrame)):\n",
    "        # Create a null data frame we will return later\n",
    "        newDataFrame = pd.DataFrame()\n",
    "        toAppend = pd.DataFrame(dataFrame[dataFrame['Sepal.Width'] > maxWidth], columns=list(dataFrame.columns))\n",
    "        newDataFrame = newDataFrame.append(toAppend)\n",
    "    else:\n",
    "        print('You did not pass in a pandas data frame')\n",
    "    \n",
    "    return newDataFrame"
   ]
  },
  {
   "cell_type": "code",
   "execution_count": 11,
   "metadata": {},
   "outputs": [
    {
     "name": "stdout",
     "output_type": "stream",
     "text": [
      "     Sepal.Length  Sepal.Width  Petal.Length  Petal.Width    Species\n",
      "4             5.0          3.6           1.4          0.2     setosa\n",
      "5             5.4          3.9           1.7          0.4     setosa\n",
      "10            5.4          3.7           1.5          0.2     setosa\n",
      "14            5.8          4.0           1.2          0.2     setosa\n",
      "15            5.7          4.4           1.5          0.4     setosa\n",
      "16            5.4          3.9           1.3          0.4     setosa\n",
      "18            5.7          3.8           1.7          0.3     setosa\n",
      "19            5.1          3.8           1.5          0.3     setosa\n",
      "21            5.1          3.7           1.5          0.4     setosa\n",
      "22            4.6          3.6           1.0          0.2     setosa\n",
      "32            5.2          4.1           1.5          0.1     setosa\n",
      "33            5.5          4.2           1.4          0.2     setosa\n",
      "37            4.9          3.6           1.4          0.1     setosa\n",
      "44            5.1          3.8           1.9          0.4     setosa\n",
      "46            5.1          3.8           1.6          0.2     setosa\n",
      "48            5.3          3.7           1.5          0.2     setosa\n",
      "109           7.2          3.6           6.1          2.5  virginica\n",
      "117           7.7          3.8           6.7          2.2  virginica\n",
      "131           7.9          3.8           6.4          2.0  virginica\n"
     ]
    }
   ],
   "source": [
    "largerThanTest = sepalWidthLargerThan(data, 3.5)\n",
    "print(largerThanTest)"
   ]
  },
  {
   "cell_type": "markdown",
   "metadata": {},
   "source": [
    "#### Write the data for a given species to a comma-delimited file with the given species name as the file name; Hint: look at using + or % to concatenate your species name and “.csv”"
   ]
  },
  {
   "cell_type": "code",
   "execution_count": 12,
   "metadata": {},
   "outputs": [],
   "source": [
    "def writeGivenSpecies(dataFrame, speciesName):\n",
    "    # Check if we are working with a pandas data frame\n",
    "    if (isinstance(dataFrame, pd.pandas.core.frame.DataFrame)):\n",
    "        writeName = speciesName + '.csv'\n",
    "        data[data['Species'].str.contains(speciesName)].to_csv(writeName)\n",
    "    else:\n",
    "        print('You did not pass in a pandas data frame')\n",
    "    \n",
    "    return"
   ]
  },
  {
   "cell_type": "code",
   "execution_count": 14,
   "metadata": {},
   "outputs": [
    {
     "data": {
      "text/plain": [
       "False"
      ]
     },
     "execution_count": 14,
     "metadata": {},
     "output_type": "execute_result"
    }
   ],
   "source": [
    "# File does not yet exist\n",
    "os.path.isfile('setosa.csv')"
   ]
  },
  {
   "cell_type": "code",
   "execution_count": 15,
   "metadata": {},
   "outputs": [],
   "source": [
    "writeGivenSpecies(data, 'setosa')"
   ]
  },
  {
   "cell_type": "code",
   "execution_count": 16,
   "metadata": {},
   "outputs": [
    {
     "data": {
      "text/plain": [
       "True"
      ]
     },
     "execution_count": 16,
     "metadata": {},
     "output_type": "execute_result"
    }
   ],
   "source": [
    "# File does exist after running the function\n",
    "os.path.isfile('setosa.csv')"
   ]
  },
  {
   "cell_type": "code",
   "execution_count": null,
   "metadata": {},
   "outputs": [],
   "source": []
  }
 ],
 "metadata": {
  "kernelspec": {
   "display_name": "Python 3",
   "language": "python",
   "name": "python3"
  },
  "language_info": {
   "codemirror_mode": {
    "name": "ipython",
    "version": 3
   },
   "file_extension": ".py",
   "mimetype": "text/x-python",
   "name": "python",
   "nbconvert_exporter": "python",
   "pygments_lexer": "ipython3",
   "version": "3.6.4"
  }
 },
 "nbformat": 4,
 "nbformat_minor": 2
}
